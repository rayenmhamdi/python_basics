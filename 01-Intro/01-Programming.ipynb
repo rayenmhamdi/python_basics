{
 "cells": [
  {
   "cell_type": "markdown",
   "metadata": {},
   "source": [
    "# Intro to Programming"
   ]
  },
  {
   "cell_type": "markdown",
   "metadata": {},
   "source": [
    "\n",
    "## A program ? what is that ?\n",
    "Since its invention in the 1950s, computers have revolutionized many areas of our daily life.\n",
    "- Calculating a route from a website or a GPS\n",
    "- Remote booking of a train or plane ticket\n",
    "- The ability to see and talk with friends halfway around the world\n",
    "\n",
    "All these common acts are possible thanks to computers. \n",
    "\n",
    "\n",
    "However, a computer, even a very powerful one, **is only a machine capable of automatically executing a series of simple operations that have been asked to do it**. He does not have by himself any capacity for learning, judgment, improvisation, **in short any \"intelligence\"**. He just does what he's told to do. The advantage of computers is that they **can manipulate huge amounts of information very quickly and without error**.\n",
    "\n",
    "Human intervention is required for a computer to perform useful tasks. This is the role of the programmer (also called developer). **He will provide the orders** that the machine must execute by writing programs. \n",
    "\n",
    "A computer program is a **list of commands (orders) telling a computer what to do**. It takes the concrete form of one or more files containing textual commands: these are the orders given to the machine, which are also called **instructions**. The set of files containing the program's instructions constitutes its **source code**.\n",
    "\n",
    "![instructions](../assets/images/instructions.png)\n",
    "\n",
    "\n",
    "However, you cannot write anything and everything in the source code of a program. Let's say you want to chat with an English speaking person. You will not be understood if you use words that are not English. It is the same thing when writing programs: to be understood by a computer, **a program must respect the rules of the programming language used**.\n",
    "\n",
    "**A programming language** defines a way of giving orders to a computer. A bit like a natural language, it has a vocabulary (a set of keywords, each playing a specific role) and its grammar (a set of rules defining the way of writing programs in this language)."
   ]
  },
  {
   "cell_type": "markdown",
   "metadata": {},
   "source": [
    "## How to Code\n",
    "Except in very simple cases, you do not create a program by launching directly into writing the source code. It is first necessary to analyze the problem to find the sequence of operations to be written to solve it.\n",
    "\n",
    "Let's take a concrete example from everyday life (the original idea is from Alain Tarlowski): I want to prepare a pasta dish. What are the steps that will allow me to reach my goal?\n",
    "\n",
    "![Pasta](../assets/images/spagethi.png)\n",
    "\n",
    "we can imagine these instructions\n",
    "\n",
    "```\n",
    "Start\n",
    "    Take out a pan\n",
    "    Put water in the pan\n",
    "    Add salt\n",
    "    Put the pan on the fire\n",
    "    As long as the water does not boil\n",
    "        Wait\n",
    "    Take the pasta out of the cupboard\n",
    "    Pour the pasta into the pan\n",
    "    As long as the pasta is not cooked\n",
    "        Wait\n",
    "    Pour the pasta in a colander\n",
    "    Drain the pasta\n",
    "    Pour the pasta into a dish\n",
    "    If you prefer oil\n",
    "        Add oil  \n",
    "End\n",
    "```\n",
    "\n",
    "We see that we achieve the desired objective by combining a set of actions in a specific order.We can distinguish different types of actions:\n",
    "- **simple actions** (\"Take out a pan\")\n",
    "- **Conditional actions** (\"If you prefer oil ...\")\n",
    "- **Actions that are repeated** (\"As long as the pasta is not cooked ... Wait\")\n",
    "\n",
    "\n",
    "We have used a simple notation, understandable and independent of any programming language. In fact, we just wrote what is called an **algorithm**.\n",
    "\n",
    "We have used a simple notation, understandable and independent of any programming language. In fact, we just wrote what is called an algorithm.\n"
   ]
  },
  {
   "cell_type": "markdown",
   "metadata": {},
   "source": [
    "## Programming Languages\n",
    "\n",
    "There are many programming language in the world we can name a few (famous ones) in this table\n",
    "\n",
    "| Web Design | Web (FrontEnd) | Web (Backend) | Mobile     | Desktop | Embedded Systems |\n",
    "| ---------- | -------------- | ------------- | ---------- | ------- | ---------------- |\n",
    "| HTML/Css   | Javascript     | C#            | Java       | C/C++   | C/C++            |\n",
    "|            |                | Java          | C#         | Java    | Python           |\n",
    "|            |                | Python        | Javascript | C#      |                  |\n",
    "|            |                | Javascript    | Python     | Python  |                  |\n",
    "|            |                | Php           |            | Ruby    |                  |\n",
    "|            |                | Ruby          |            |         |                  |\n",
    "\n",
    "\n",
    "Html and Css are not a programming languages\n"
   ]
  },
  {
   "cell_type": "markdown",
   "metadata": {},
   "source": [
    "## Frameworks\n",
    "In computer programming, a framework or software structure is a coherent set of structural software components which is used to create the foundations as well as the outlines of all or part of your software that you intend to create.\n",
    "in other way:\n",
    "- A framework is a collection of many labraries ready to be used\n",
    "- A framework is a set of Rules to follow\n",
    "- A Framework is a productivity tool to Software Developmment\n",
    "\n",
    "here we can mention a list of some famous framwork with their coresspendant languages and usage\n",
    "\n",
    "\n",
    "|   Language |                Name               |          Usage         |\n",
    "|:----------:|:---------------------------------:|:----------------------:|\n",
    "|    Java    |      Java Server Faces (JSF)      |           Web          |\n",
    "|    Java    |  Java Standard Edition (Java SE)  |         Desktop        |\n",
    "|    Java    | Java Entreprise Edition (Java EE) |           Web          |\n",
    "|    Java    |    Java Micro Edition (Java ME)   |         Mobile         |\n",
    "|    Java    |           Apache Struts           |           Web          |\n",
    "|    Java    |               Spring              |           Web          |\n",
    "|     C#     |                .NET               | Web, Mobile et Desktop |\n",
    "|     PHP    |              Symfony              |           Web          |\n",
    "|     PHP    |              Laravel              |           Web          |\n",
    "|     PHP    |              Cake PHP             |           Web          |\n",
    "|     PHP    |           Zend Framework          |           Web          |\n",
    "|  HTML/CSS  |             Bootsrtrap            |      Design du web     |\n",
    "|  HTML/CSS  |             Foundation            |      Design du web     |\n",
    "|  HTML/CSS  |            Metro ui css           |      Design du web     |\n",
    "| JavaScript |           Angular/React           |      Web et Mobile     |\n",
    "| JavaScript |              Node JS              |      Web et Mobile     |\n",
    "| JavaScript |              Express              |      Web et Mobile     |\n",
    "|   Python   |               Django              |           Web          |\n",
    "|   Python   |               Flask               |           Web          |\n",
    "|   Python   |              Twisted              |         Desktop        |\n",
    "|   Python   |               Scrapy              |    Embedded Systems    |\n",
    "|    Ruby    |           Ruby on rails           |           Web          |\n",
    "|    Ruby    |                Merb               |           Web          |"
   ]
  },
  {
   "cell_type": "markdown",
   "metadata": {},
   "source": [
    "## Code Example\n",
    "\n",
    "in the next example we will show a code written in Python that calculate the factorial of the number 23"
   ]
  },
  {
   "cell_type": "code",
   "execution_count": 2,
   "metadata": {},
   "outputs": [
    {
     "name": "stdout",
     "output_type": "stream",
     "text": [
      "The factorial of 23 is : \n",
      "25852016738884976640000\n"
     ]
    }
   ],
   "source": [
    "n = 23\n",
    "fact = 1\n",
    "  \n",
    "for i in range(1,n+1):\n",
    "    fact = fact * i\n",
    "      \n",
    "print (\"The factorial of 23 is : \")\n",
    "print (fact)"
   ]
  }
 ],
 "metadata": {
  "interpreter": {
   "hash": "420198d8149efec746bc1ad73e977a15e2399e15699adf18e1ccb5aa333f2104"
  },
  "kernelspec": {
   "display_name": "Python 3.7.9 32-bit",
   "language": "python",
   "name": "python3"
  },
  "language_info": {
   "codemirror_mode": {
    "name": "ipython",
    "version": 3
   },
   "file_extension": ".py",
   "mimetype": "text/x-python",
   "name": "python",
   "nbconvert_exporter": "python",
   "pygments_lexer": "ipython3",
   "version": "3.7.9"
  },
  "orig_nbformat": 4
 },
 "nbformat": 4,
 "nbformat_minor": 2
}
