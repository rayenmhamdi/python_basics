{
 "cells": [
  {
   "cell_type": "markdown",
   "metadata": {},
   "source": [
    "# Intro to Programming\n",
    "\n",
    "## a program ? what is that ?\n",
    "\n",
    "Since its invention in the 1950s, computers have revolutionized many areas of our daily life.\n",
    "- Calculating a route from a website or a GPS\n",
    "- Remote booking of a train or plane ticket\n",
    "- The ability to see and talk with friends halfway around the world\n",
    "\n",
    "All these common acts are possible thanks to computers. \n",
    "\n",
    "\n",
    "However, a computer, even a very powerful one, **is only a machine capable of automatically executing a series of simple operations that have been asked to do it**. He does not have by himself any capacity for learning, judgment, improvisation, **in short any \"intelligence\"**. He just does what he's told to do. The advantage of computers is that they **can manipulate huge amounts of information very quickly and without error**.\n",
    "\n",
    "Human intervention is required for a computer to perform useful tasks. This is the role of the programmer (also called developer). **He will provide the orders** that the machine must execute by writing programs. \n",
    "\n",
    "A computer program is a **list of commands (orders) telling a computer what to do**. It takes the concrete form of one or more files containing textual commands: these are the orders given to the machine, which are also called <u>**instructions**</u>. The set of files containing the program's instructions constitutes its <u>**source code**</u>."
   ]
  },
  {
   "cell_type": "markdown",
   "metadata": {},
   "source": []
  }
 ],
 "metadata": {
  "language_info": {
   "name": "python"
  },
  "orig_nbformat": 4
 },
 "nbformat": 4,
 "nbformat_minor": 2
}
